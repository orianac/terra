{
 "cells": [
  {
   "cell_type": "code",
   "execution_count": null,
   "metadata": {
    "collapsed": false
   },
   "outputs": [],
   "source": [
    "%matplotlib inline\n",
    "%autoreload 2\n",
    "\n",
    "from tonic.io import read_config, read_netcdf\n",
    "import xarray as xr\n",
    "import pandas as pd\n",
    "import numpy as np\n",
    "import argparse\n",
    "import os\n",
    "import matplotlib.pyplot as plt\n",
    "from general_functions import datestamp\n",
    "from collections import OrderedDict"
   ]
  },
  {
   "cell_type": "code",
   "execution_count": null,
   "metadata": {
    "collapsed": false
   },
   "outputs": [],
   "source": [
    "# parser = argparse.ArgumentParser(formatter_class=argparse.RawTextHelpFormatter)\n",
    "# parser.add_argument(\"config_file\",help=\"input config file\")\n",
    "# args = parser.parse_args()\n",
    "# config_file = args.config_file\n",
    "\n",
    "# Read in the config file (TODO: make this a command line argument by uncommenting the lines above)\n",
    "config_file = 'spatial_comparisons.cfg'\n",
    "config = read_config(config_file)\n",
    "options = config['Options']\n",
    "file1 = options['file1']\n",
    "variables = options['variables']\n",
    "out_dir = options['figure_dir']"
   ]
  },
  {
   "cell_type": "code",
   "execution_count": null,
   "metadata": {
    "collapsed": true
   },
   "outputs": [],
   "source": [
    "os.makedirs(out_dir, exist_ok=True)"
   ]
  },
  {
   "cell_type": "code",
   "execution_count": null,
   "metadata": {
    "collapsed": false
   },
   "outputs": [],
   "source": [
    "ds = xr.open_dataset(file1)"
   ]
  },
  {
   "cell_type": "code",
   "execution_count": null,
   "metadata": {
    "collapsed": false
   },
   "outputs": [],
   "source": [
    "monthly_plot_setup= OrderedDict([('January', ((0,0),0)), ('February', ((0,1),1)), \n",
    "                                 ('March', ((0,2),2)), ('April',((0,3),3)), \n",
    "                                 ('May', ((1,0),4)), ('June', ((1,1),5)), \n",
    "                                 ('July', ((1,2),6)), ('August', ((1,3),7)),\n",
    "                                 ('September', ((2,0),8)), ('October', ((2,1),9)),\n",
    "                                 ('November', ((2,2),10)), ('December', ((2,3),11))])"
   ]
  },
  {
   "cell_type": "code",
   "execution_count": null,
   "metadata": {
    "collapsed": true
   },
   "outputs": [],
   "source": [
    "# TO-DO:\n",
    "# Pass a units dictionary with the config file\n",
    "# units = {'Precpitation': '[mm/day]',\n",
    "#         'Evaporation': '[mm/day]',\n",
    "#         }\n",
    "# Pass a title for the netcdf file\n",
    "# Add a \n",
    "# Convert to python script\n",
    "# "
   ]
  },
  {
   "cell_type": "code",
   "execution_count": null,
   "metadata": {
    "collapsed": false
   },
   "outputs": [],
   "source": [
    "for variable in variables:\n",
    "    monthly = ds[variable].groupby('time.month').mean(dim='time')\n",
    "    f, axarr = plt.subplots(3, 4, figsize=(20,20), sharex=True, sharey=False)\n",
    "    for i,month in enumerate(monthly_plot_setup.keys()):\n",
    "        ax = plt.sca(axarr[monthly_plot_setup[month][0]])\n",
    "        plot = monthly[i].plot(ax=ax, vmin=0, vmax=20, add_colorbar=False)\n",
    "        plt.title(month, size=20)\n",
    "    f.subplots_adjust(left=0.12, right=0.9, top=0.73)\n",
    "\n",
    "    # Plot a colorbar on the left side of the plot\n",
    "    cbar_ax_abs = f.add_axes([0.045, 0.15, 0.014, 0.57])\n",
    "    cbar_ax_abs.tick_params(labelsize=20)\n",
    "    cbar_abs = plt.colorbar(plot, cax=cbar_ax_abs, extend='max').set_label(label=variable+' [mm/day]',\n",
    "                                                                           size=30, labelpad=-100)\n",
    "    f.savefig(os.path.join(out_dir, ('_').join([datestamp(),variable+'.png'])))"
   ]
  },
  {
   "cell_type": "code",
   "execution_count": null,
   "metadata": {
    "collapsed": true
   },
   "outputs": [],
   "source": []
  }
 ],
 "metadata": {
  "kernelspec": {
   "display_name": "Python (env)",
   "language": "python",
   "name": "python-env"
  },
  "language_info": {
   "codemirror_mode": {
    "name": "ipython",
    "version": 3
   },
   "file_extension": ".py",
   "mimetype": "text/x-python",
   "name": "python",
   "nbconvert_exporter": "python",
   "pygments_lexer": "ipython3",
   "version": "3.5.2"
  }
 },
 "nbformat": 4,
 "nbformat_minor": 0
}
