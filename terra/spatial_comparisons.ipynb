{
 "cells": [
  {
   "cell_type": "code",
   "execution_count": null,
   "metadata": {
    "collapsed": false
   },
   "outputs": [],
   "source": [
    "%matplotlib inline\n",
    "%autoreload 2\n",
    "\n",
    "from tonic.io import read_config, read_netcdf\n",
    "import xarray as xr\n",
    "import pandas as pd\n",
    "import numpy as np\n",
    "import argparse\n",
    "import os\n",
    "import matplotlib.pyplot as plt\n",
    "from general_functions import datestamp\n",
    "from collections import OrderedDict"
   ]
  },
  {
   "cell_type": "code",
   "execution_count": null,
   "metadata": {
    "collapsed": false
   },
   "outputs": [],
   "source": [
    "# parser = argparse.ArgumentParser(formatter_class=argparse.RawTextHelpFormatter)\n",
    "# parser.add_argument(\"config_file\",help=\"input config file\")\n",
    "# args = parser.parse_args()\n",
    "# config_file = args.config_file\n",
    "\n",
    "# Read in the config file (TODO: make this a command line argument by uncommenting the lines above)\n",
    "config_file = 'spatial_comparisons.cfg'\n",
    "config_dict = read_config(config_file)\n",
    "\n",
    "# Read in the output directory and make it if it doesn't already exist\n",
    "global_options = config_dict.pop('Global')\n",
    "out_dir = global_options['figure_dir']\n",
    "os.makedirs(out_dir, exist_ok=True)\n",
    "\n",
    "# Count the files that you have in your config file (either one or two)\n",
    "files = []\n",
    "for key in config_dict.keys():\n",
    "    if 'file' in key:\n",
    "        files.append(key)\n",
    "\n",
    "# Make a dictionary for the file options\n",
    "# Read in the strings used to identify/describe the data contained in each file\n",
    "file_options_dict = OrderedDict({})\n",
    "for file in files:\n",
    "    file_options_dict[file] = config_dict.pop(file)\n",
    "\n",
    "# The remaining pieces of the config_dict are the variables and their information\n",
    "variables = config_dict"
   ]
  },
  {
   "cell_type": "code",
   "execution_count": null,
   "metadata": {
    "collapsed": true
   },
   "outputs": [],
   "source": [
    "# TO-DO:\n",
    "# Add comparison (difference plots)\n",
    "# Convert to python script\n",
    "# "
   ]
  },
  {
   "cell_type": "code",
   "execution_count": null,
   "metadata": {
    "collapsed": true
   },
   "outputs": [],
   "source": [
    "def calculate_mean_monthly_spatial_field(ds, variable):\n",
    "    '''\n",
    "    Input: xarray dataset\n",
    "    Output: Mean monthly spatial array for dataset \n",
    "    '''\n",
    "    monthly = ds[variable].groupby('time.month').mean(dim='time')\n",
    "    return monthly"
   ]
  },
  {
   "cell_type": "code",
   "execution_count": null,
   "metadata": {
    "collapsed": false
   },
   "outputs": [],
   "source": [
    "def mean_monthly_spatial_plot(monthly_groupby_arrays, variable, title, units, vmin, vmax, figure_stub):\n",
    "\n",
    "    '''\n",
    "    Saves a figure with 12 spatial plots of mean monthly \n",
    "    variable fields.\n",
    "    '''\n",
    "\n",
    "    monthly_plot_setup= OrderedDict([('January', (0,0)), ('February', (0,1)), \n",
    "                                 ('March', (0,2)), ('April', (0,3)), \n",
    "                                 ('May', (1,0)), ('June', (1,1)), \n",
    "                                 ('July', (1,2)), ('August', (1,3)),\n",
    "                                 ('September', (2,0)), ('October', (2,1)),\n",
    "                                 ('November', (2,2)), ('December', (2,3))])\n",
    "    # Initialize the figure\n",
    "    f, axarr = plt.subplots(3, 4, figsize=(20,16), sharex=False, sharey=False)\n",
    "    \n",
    "    # Cycle through the months in the setup dictionary defined above and put the plots in the\n",
    "    # correct location in the plot according to the items in the dictionary\n",
    "    for i,month in enumerate(monthly_plot_setup.keys()):\n",
    "        ax = plt.sca(axarr[monthly_plot_setup[month]])\n",
    "        plot = monthly_groupby_arrays[i].plot(ax=ax, vmin=vmin, vmax=vmax, add_colorbar=False)\n",
    "        \n",
    "    # Assign a title based upon the setup dictionary defined above\n",
    "        plt.title(month, size=20)\n",
    "        \n",
    "    # Make room for a title and a colorbar\n",
    "    f.subplots_adjust(left=0.12, right=0.9, top=0.93)\n",
    "\n",
    "    # Plot a colorbar on the left side of the plot\n",
    "    cbar_ax_abs = f.add_axes([0.045, 0.15, 0.014, 0.8])\n",
    "    cbar_ax_abs.tick_params(labelsize=20)\n",
    "    cbar_abs = plt.colorbar(plot, cax=cbar_ax_abs, extend='max').set_label(label=(' ').join([variable,units]),\n",
    "                                                                           size=30, labelpad=-100)\n",
    "    # Add a colorbar\n",
    "    plt.suptitle((' ').join([title, 'mean monthly spatial fields']), size=30)\n",
    "    f.savefig(os.path.join(out_dir, ('_').join([datestamp(),figure_stub,variable+'.png'])))"
   ]
  },
  {
   "cell_type": "code",
   "execution_count": null,
   "metadata": {
    "collapsed": false
   },
   "outputs": [],
   "source": [
    "# Loop through the files that you want to plot (there is either one or two files)\n",
    "for file_label, file_options in file_options_dict.items():\n",
    "    \n",
    "# Access the data path, title and figure stub (same for all varaibles' plots)\n",
    "    file_path, title, figure_stub = file_options['path'], file_options['description'], file_options['figure_stub']\n",
    "    \n",
    "# Open the data file\n",
    "    ds = xr.open_dataset(file_path)\n",
    "    \n",
    "# Loop through the variables and create a plot for each of them\n",
    "    for variable, option_dict in variables.items():\n",
    "        \n",
    "# Check whether the variable is present in this file that we're plotting\n",
    "        if file_label in option_dict['files']:\n",
    "# Access the units and vmax/vmin which differ for every variable        \n",
    "            units, vmin, vmax = option_dict['units'], option_dict['vmin'], option_dict['vmax']\n",
    "# Get the groupby'ed mean monthly arrays\n",
    "            monthly = calculate_mean_monthly_spatial_field(ds, variable)\n",
    "\n",
    "# Make the plot!\n",
    "            mean_monthly_spatial_plot(monthly, variable, title, units, vmin, vmax, figure_stub)"
   ]
  },
  {
   "cell_type": "code",
   "execution_count": null,
   "metadata": {
    "collapsed": false
   },
   "outputs": [],
   "source": [
    "# Make a difference plot if there is more than one netcdf file\n",
    "if len(file_options.keys()) > 1:   \n",
    "# Access the data path, title and figure stub (same for all varaibles' plots)\n",
    "    figure_stub = global_options['comparison_stub']   \n",
    "    title = global_options['comparison_title']\n",
    "# Open the data files and load them into datasets\n",
    "    ds = {}\n",
    "    for file_label, file_options in file_options_dict.items():\n",
    "# Access the data path, title and figure stub (same for all varaibles' plots)\n",
    "        file_path, figure_stub = file_options['path'], file_options['figure_stub']\n",
    "# Open the data file\n",
    "        ds[file_label] = xr.open_dataset(file_path)\n",
    "# Loop through the variables and create a plot for each of them that appears in both datasets\n",
    "    for variable, option_dict in variables.items():\n",
    "# Check whether the variable is present in this file that we're plotting\n",
    "        if set(option_dict['files']) == set(file_options_dict.keys()):\n",
    "# Access the units and vmax/vmin which differ for every variable        \n",
    "            units, vmin, vmax = option_dict['units'], option_dict['vmin'], option_dict['vmax']\n",
    "# Get the groupby'ed mean monthly arrays\n",
    "            monthly = {}\n",
    "            for file_label in file_options_dict.keys():\n",
    "                monthly[file_label] = calculate_mean_monthly_spatial_field(ds[file_label], variable)\n",
    "# Take the difference- subtract the second file from the first\n",
    "            labels = list(file_options_dict.keys())\n",
    "            difference = monthly[labels[0]]-monthly[labels[1]]\n",
    "# To keep track of which file is being subtracted, get a little text snippet to add to the figure's title\n",
    "            figure_text = (' - ').join([file_options_dict[labels[0]]['figure_stub'],\n",
    "                                        file_options_dict[labels[1]]['figure_stub']])\n",
    "            title += '\\n'+figure_text\n",
    "# Make the plot!\n",
    "            mean_monthly_spatial_plot(difference, variable, title, units, vmin, vmax, figure_stub)"
   ]
  },
  {
   "cell_type": "code",
   "execution_count": null,
   "metadata": {
    "collapsed": true
   },
   "outputs": [],
   "source": []
  }
 ],
 "metadata": {
  "kernelspec": {
   "display_name": "Python (env)",
   "language": "python",
   "name": "python-env"
  },
  "language_info": {
   "codemirror_mode": {
    "name": "ipython",
    "version": 3
   },
   "file_extension": ".py",
   "mimetype": "text/x-python",
   "name": "python",
   "nbconvert_exporter": "python",
   "pygments_lexer": "ipython3",
   "version": "3.5.2"
  }
 },
 "nbformat": 4,
 "nbformat_minor": 0
}
